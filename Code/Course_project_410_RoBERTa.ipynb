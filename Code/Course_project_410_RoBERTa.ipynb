{
  "nbformat": 4,
  "nbformat_minor": 0,
  "metadata": {
    "accelerator": "TPU",
    "colab": {
      "name": "Course_project_410_RoBERTa.ipynb",
      "provenance": [],
      "collapsed_sections": [],
      "machine_shape": "hm",
      "include_colab_link": true
    },
    "kernelspec": {
      "display_name": "Python 3",
      "language": "python",
      "name": "python3"
    },
    "language_info": {
      "codemirror_mode": {
        "name": "ipython",
        "version": 3
      },
      "file_extension": ".py",
      "mimetype": "text/x-python",
      "name": "python",
      "nbconvert_exporter": "python",
      "pygments_lexer": "ipython3",
      "version": "3.7.3"
    }
  },
  "cells": [
    {
      "cell_type": "markdown",
      "metadata": {
        "id": "view-in-github",
        "colab_type": "text"
      },
      "source": [
        "<a href=\"https://colab.research.google.com/github/bzhao10/CourseProject/blob/main/Code/Course_project_410_RoBERTa.ipynb\" target=\"_parent\"><img src=\"https://colab.research.google.com/assets/colab-badge.svg\" alt=\"Open In Colab\"/></a>"
      ]
    },
    {
      "cell_type": "code",
      "metadata": {
        "colab": {
          "base_uri": "https://localhost:8080/"
        },
        "id": "VtwexhukQ5Cn",
        "scrolled": true,
        "outputId": "ba42f7b6-e6b7-4822-b894-4226196d77b0"
      },
      "source": [
        "!pip install jsonlines"
      ],
      "execution_count": 38,
      "outputs": [
        {
          "output_type": "stream",
          "text": [
            "Requirement already satisfied: jsonlines in /usr/local/lib/python3.6/dist-packages (1.2.0)\n",
            "Requirement already satisfied: six in /usr/local/lib/python3.6/dist-packages (from jsonlines) (1.15.0)\n"
          ],
          "name": "stdout"
        }
      ]
    },
    {
      "cell_type": "code",
      "metadata": {
        "id": "rAhreXcYUBTm"
      },
      "source": [
        "import os\n",
        "import jsonlines\n",
        "import csv\n",
        "import pandas as pd\n",
        "import random\n",
        "\n",
        "#The following method is used to create readable traindata in csv format\n",
        "\n",
        "data = []\n",
        "\n",
        "#Convert 'SARCASM' label in train.jsonl into 0 and 1 \n",
        "with open(\"train.jsonl\",\"r+\",encoding='utf-8') as f:\n",
        "    for item in jsonlines.Reader(f):\n",
        "        if item['label'] == 'SARCASM':\n",
        "            item['label'] = 0\n",
        "        else:\n",
        "            item['label'] = 1\n",
        "        data.append(item)\n",
        "\n",
        "#Remove '@USER' and '<URL>' content and parse the train.jsonl data into csv format\n",
        "with open('traindata.csv', 'w+', newline='', encoding='utf-8') as f:\n",
        "    csv_writer = csv.writer(f)\n",
        "    csv_head = ['context', 'response', 'label']\n",
        "    csv_writer.writerow(csv_head)\n",
        " \n",
        "    for i in range(len(data)):\n",
        "        data_row = [(''.join(data[i]['context'])).replace('@USER', '').replace('<URL>',''),\n",
        "                    (data[i]['response']).replace('@USER', '').replace('<URL>',''), data[i]['label']]\n",
        "        csv_writer.writerow(data_row)\n",
        "\n",
        "    total = pd.read_csv(\"traindata.csv\")"
      ],
      "execution_count": 39,
      "outputs": []
    },
    {
      "cell_type": "code",
      "metadata": {
        "id": "jag_Pj7tQklb"
      },
      "source": [
        "#The following method is used to create readable testdata in csv format\n",
        "data = []\n",
        "\n",
        "with open('test.jsonl',\"r+\",encoding='utf-8') as f:\n",
        "    for item in jsonlines.Reader(f):\n",
        "        data.append(item)\n",
        "\n",
        "#Remove '@USER' and '<URL>' content and parse the train.jsonl data into csv format\n",
        "with open('testdata.csv', 'w+', newline='', encoding='utf-8') as f:\n",
        "    csv_writer = csv.writer(f)\n",
        "    csv_head = ['context', 'response', 'id']\n",
        "    csv_writer.writerow(csv_head)\n",
        "\n",
        "    for i in range(len(data)):\n",
        "        data_row = [(''.join(data[i]['context'])).replace('@USER', '').replace('<URL>', ''),\n",
        "                    (data[i]['response']).replace('@USER', '').replace('<URL>', ''), data[i]['id']]\n",
        "        csv_writer.writerow(data_row)\n",
        "\n",
        "total = pd.read_csv(\"testdata.csv\")"
      ],
      "execution_count": 40,
      "outputs": []
    },
    {
      "cell_type": "code",
      "metadata": {
        "colab": {
          "base_uri": "https://localhost:8080/"
        },
        "id": "Exl-xU_gaPx7",
        "outputId": "aa0400d1-3d4e-4b1c-bea7-41622f0a4c3c"
      },
      "source": [
        "!pip install transformers==3.5.1"
      ],
      "execution_count": 41,
      "outputs": [
        {
          "output_type": "stream",
          "text": [
            "Requirement already satisfied: transformers==3.5.1 in /usr/local/lib/python3.6/dist-packages (3.5.1)\n",
            "Requirement already satisfied: sentencepiece==0.1.91 in /usr/local/lib/python3.6/dist-packages (from transformers==3.5.1) (0.1.91)\n",
            "Requirement already satisfied: protobuf in /usr/local/lib/python3.6/dist-packages (from transformers==3.5.1) (3.12.4)\n",
            "Requirement already satisfied: filelock in /usr/local/lib/python3.6/dist-packages (from transformers==3.5.1) (3.0.12)\n",
            "Requirement already satisfied: regex!=2019.12.17 in /usr/local/lib/python3.6/dist-packages (from transformers==3.5.1) (2019.12.20)\n",
            "Requirement already satisfied: sacremoses in /usr/local/lib/python3.6/dist-packages (from transformers==3.5.1) (0.0.43)\n",
            "Requirement already satisfied: dataclasses; python_version < \"3.7\" in /usr/local/lib/python3.6/dist-packages (from transformers==3.5.1) (0.8)\n",
            "Requirement already satisfied: tqdm>=4.27 in /usr/local/lib/python3.6/dist-packages (from transformers==3.5.1) (4.41.1)\n",
            "Requirement already satisfied: packaging in /usr/local/lib/python3.6/dist-packages (from transformers==3.5.1) (20.7)\n",
            "Requirement already satisfied: numpy in /usr/local/lib/python3.6/dist-packages (from transformers==3.5.1) (1.18.5)\n",
            "Requirement already satisfied: requests in /usr/local/lib/python3.6/dist-packages (from transformers==3.5.1) (2.23.0)\n",
            "Requirement already satisfied: tokenizers==0.9.3 in /usr/local/lib/python3.6/dist-packages (from transformers==3.5.1) (0.9.3)\n",
            "Requirement already satisfied: six>=1.9 in /usr/local/lib/python3.6/dist-packages (from protobuf->transformers==3.5.1) (1.15.0)\n",
            "Requirement already satisfied: setuptools in /usr/local/lib/python3.6/dist-packages (from protobuf->transformers==3.5.1) (50.3.2)\n",
            "Requirement already satisfied: click in /usr/local/lib/python3.6/dist-packages (from sacremoses->transformers==3.5.1) (7.1.2)\n",
            "Requirement already satisfied: joblib in /usr/local/lib/python3.6/dist-packages (from sacremoses->transformers==3.5.1) (0.17.0)\n",
            "Requirement already satisfied: pyparsing>=2.0.2 in /usr/local/lib/python3.6/dist-packages (from packaging->transformers==3.5.1) (2.4.7)\n",
            "Requirement already satisfied: certifi>=2017.4.17 in /usr/local/lib/python3.6/dist-packages (from requests->transformers==3.5.1) (2020.12.5)\n",
            "Requirement already satisfied: idna<3,>=2.5 in /usr/local/lib/python3.6/dist-packages (from requests->transformers==3.5.1) (2.10)\n",
            "Requirement already satisfied: chardet<4,>=3.0.2 in /usr/local/lib/python3.6/dist-packages (from requests->transformers==3.5.1) (3.0.4)\n",
            "Requirement already satisfied: urllib3!=1.25.0,!=1.25.1,<1.26,>=1.21.1 in /usr/local/lib/python3.6/dist-packages (from requests->transformers==3.5.1) (1.24.3)\n"
          ],
          "name": "stdout"
        }
      ]
    },
    {
      "cell_type": "code",
      "metadata": {
        "id": "LwruXiTXsORZ"
      },
      "source": [
        "import numpy as np\n",
        "import pandas as pd\n",
        "import torch\n",
        "import torch.nn as nn\n",
        "from sklearn.model_selection import train_test_split\n",
        "from sklearn.metrics import classification_report\n",
        "import transformers\n",
        "from transformers import AutoModel, BertTokenizerFast, RobertaTokenizer, RobertaTokenizerFast, AlbertTokenizer\n",
        "\n",
        "# specify CPU as our device, since our Code will exceed Google Colab GPU RAM limitation\n",
        "device = torch.device(\"cpu\")"
      ],
      "execution_count": 42,
      "outputs": []
    },
    {
      "cell_type": "code",
      "metadata": {
        "id": "fjm572y41L6n",
        "colab": {
          "base_uri": "https://localhost:8080/",
          "height": 197
        },
        "outputId": "ddff6d02-bc5e-40a5-82b8-14a4839ab23c"
      },
      "source": [
        "# Create the train text entry in reponse + context format, \r\n",
        "# Based on our paper research, this combination is the best fit for the twitter text classification\r\n",
        "df = pd.read_csv(\"traindata.csv\")\r\n",
        "df['text'] = df['response']+df['context']\r\n",
        "df.head() # Check the first 5 entries in the traindata.csv file"
      ],
      "execution_count": 43,
      "outputs": [
        {
          "output_type": "execute_result",
          "data": {
            "text/html": [
              "<div>\n",
              "<style scoped>\n",
              "    .dataframe tbody tr th:only-of-type {\n",
              "        vertical-align: middle;\n",
              "    }\n",
              "\n",
              "    .dataframe tbody tr th {\n",
              "        vertical-align: top;\n",
              "    }\n",
              "\n",
              "    .dataframe thead th {\n",
              "        text-align: right;\n",
              "    }\n",
              "</style>\n",
              "<table border=\"1\" class=\"dataframe\">\n",
              "  <thead>\n",
              "    <tr style=\"text-align: right;\">\n",
              "      <th></th>\n",
              "      <th>context</th>\n",
              "      <th>response</th>\n",
              "      <th>label</th>\n",
              "      <th>text</th>\n",
              "    </tr>\n",
              "  </thead>\n",
              "  <tbody>\n",
              "    <tr>\n",
              "      <th>0</th>\n",
              "      <td>A minor child deserves privacy and should be k...</td>\n",
              "      <td>I don't get this .. obviously you do care o...</td>\n",
              "      <td>0</td>\n",
              "      <td>I don't get this .. obviously you do care o...</td>\n",
              "    </tr>\n",
              "    <tr>\n",
              "      <th>1</th>\n",
              "      <td>Why is he a loser ? He's just a Press Secret...</td>\n",
              "      <td>trying to protest about . Talking about him ...</td>\n",
              "      <td>0</td>\n",
              "      <td>trying to protest about . Talking about him ...</td>\n",
              "    </tr>\n",
              "    <tr>\n",
              "      <th>2</th>\n",
              "      <td>Donald J . Trump is guilty as charged . The ev...</td>\n",
              "      <td>He makes an insane about of money from the ...</td>\n",
              "      <td>0</td>\n",
              "      <td>He makes an insane about of money from the ...</td>\n",
              "    </tr>\n",
              "    <tr>\n",
              "      <th>3</th>\n",
              "      <td>Jamie Raskin tanked Doug Collins . Collins loo...</td>\n",
              "      <td>Meanwhile Trump won't even release his SAT s...</td>\n",
              "      <td>0</td>\n",
              "      <td>Meanwhile Trump won't even release his SAT s...</td>\n",
              "    </tr>\n",
              "    <tr>\n",
              "      <th>4</th>\n",
              "      <td>Man ... y ’ all gone “ both sides ” the apocal...</td>\n",
              "      <td>Pretty Sure the Anti-Lincoln Crowd Claimed T...</td>\n",
              "      <td>0</td>\n",
              "      <td>Pretty Sure the Anti-Lincoln Crowd Claimed T...</td>\n",
              "    </tr>\n",
              "  </tbody>\n",
              "</table>\n",
              "</div>"
            ],
            "text/plain": [
              "                                             context  ...                                               text\n",
              "0  A minor child deserves privacy and should be k...  ...     I don't get this .. obviously you do care o...\n",
              "1    Why is he a loser ? He's just a Press Secret...  ...    trying to protest about . Talking about him ...\n",
              "2  Donald J . Trump is guilty as charged . The ev...  ...     He makes an insane about of money from the ...\n",
              "3  Jamie Raskin tanked Doug Collins . Collins loo...  ...    Meanwhile Trump won't even release his SAT s...\n",
              "4  Man ... y ’ all gone “ both sides ” the apocal...  ...    Pretty Sure the Anti-Lincoln Crowd Claimed T...\n",
              "\n",
              "[5 rows x 4 columns]"
            ]
          },
          "metadata": {
            "tags": []
          },
          "execution_count": 43
        }
      ]
    },
    {
      "cell_type": "code",
      "metadata": {
        "colab": {
          "base_uri": "https://localhost:8080/",
          "height": 197
        },
        "id": "hPVu_ZPTU3Q0",
        "outputId": "75c96334-293c-4c53-d363-64c6d3d06352"
      },
      "source": [
        "# Create the test text entry in reponse + context format, \r\n",
        "# Based on our paper research, this combination is the best fit for the twitter text classification\r\n",
        "td = pd.read_csv(\"testdata.csv\")\r\n",
        "td['text'] = td['context']+td['response'] \r\n",
        "td.head() # Check the first 5 entries in the testdata.csv file"
      ],
      "execution_count": 44,
      "outputs": [
        {
          "output_type": "execute_result",
          "data": {
            "text/html": [
              "<div>\n",
              "<style scoped>\n",
              "    .dataframe tbody tr th:only-of-type {\n",
              "        vertical-align: middle;\n",
              "    }\n",
              "\n",
              "    .dataframe tbody tr th {\n",
              "        vertical-align: top;\n",
              "    }\n",
              "\n",
              "    .dataframe thead th {\n",
              "        text-align: right;\n",
              "    }\n",
              "</style>\n",
              "<table border=\"1\" class=\"dataframe\">\n",
              "  <thead>\n",
              "    <tr style=\"text-align: right;\">\n",
              "      <th></th>\n",
              "      <th>context</th>\n",
              "      <th>response</th>\n",
              "      <th>id</th>\n",
              "      <th>text</th>\n",
              "    </tr>\n",
              "  </thead>\n",
              "  <tbody>\n",
              "    <tr>\n",
              "      <th>0</th>\n",
              "      <td>Well now that ’ s problematic AF   My 5 year o...</td>\n",
              "      <td>My 3 year old , that just finished reading ...</td>\n",
              "      <td>twitter_1</td>\n",
              "      <td>Well now that ’ s problematic AF   My 5 year o...</td>\n",
              "    </tr>\n",
              "    <tr>\n",
              "      <th>1</th>\n",
              "      <td>Last week the Fake News said that a section of...</td>\n",
              "      <td>How many verifiable lies has he told now ? 1...</td>\n",
              "      <td>twitter_2</td>\n",
              "      <td>Last week the Fake News said that a section of...</td>\n",
              "    </tr>\n",
              "    <tr>\n",
              "      <th>2</th>\n",
              "      <td>Let ’ s Aplaud Brett When he deserves it he c...</td>\n",
              "      <td>Maybe Docs just a scrub of a coach ... I me...</td>\n",
              "      <td>twitter_3</td>\n",
              "      <td>Let ’ s Aplaud Brett When he deserves it he c...</td>\n",
              "    </tr>\n",
              "    <tr>\n",
              "      <th>3</th>\n",
              "      <td>Women generally hate this president . What's u...</td>\n",
              "      <td>is just a cover up for the real hate inside ...</td>\n",
              "      <td>twitter_4</td>\n",
              "      <td>Women generally hate this president . What's u...</td>\n",
              "    </tr>\n",
              "    <tr>\n",
              "      <th>4</th>\n",
              "      <td>Dear media Remoaners , you excitedly sharing c...</td>\n",
              "      <td>The irony being that he even has to ask why .</td>\n",
              "      <td>twitter_5</td>\n",
              "      <td>Dear media Remoaners , you excitedly sharing c...</td>\n",
              "    </tr>\n",
              "  </tbody>\n",
              "</table>\n",
              "</div>"
            ],
            "text/plain": [
              "                                             context  ...                                               text\n",
              "0  Well now that ’ s problematic AF   My 5 year o...  ...  Well now that ’ s problematic AF   My 5 year o...\n",
              "1  Last week the Fake News said that a section of...  ...  Last week the Fake News said that a section of...\n",
              "2   Let ’ s Aplaud Brett When he deserves it he c...  ...   Let ’ s Aplaud Brett When he deserves it he c...\n",
              "3  Women generally hate this president . What's u...  ...  Women generally hate this president . What's u...\n",
              "4  Dear media Remoaners , you excitedly sharing c...  ...  Dear media Remoaners , you excitedly sharing c...\n",
              "\n",
              "[5 rows x 4 columns]"
            ]
          },
          "metadata": {
            "tags": []
          },
          "execution_count": 44
        }
      ]
    },
    {
      "cell_type": "code",
      "metadata": {
        "id": "XryjXIYhQ_gM"
      },
      "source": [
        "# Separate the traindata.csv into train and validation dataset\n",
        "train_text, val_text, train_labels, val_labels = train_test_split(df['text'], df['label'], \n",
        "                                                                    random_state=2018, \n",
        "                                                                    test_size=0.3, \n",
        "                                                                    stratify=df['label'])\n",
        "\n",
        "# Create test dataset to generate the answer.txt file from best model\n",
        "test_text = td['text']    "
      ],
      "execution_count": 45,
      "outputs": []
    },
    {
      "cell_type": "code",
      "metadata": {
        "id": "VG9h0KEotC_r"
      },
      "source": [
        "# import RoBERTa pretrained model from transformer\n",
        "roberta = AutoModel.from_pretrained('roberta-base')\n",
        "\n",
        "\n",
        "# Load the RoBERTa tokenizer from transformer\n",
        "tokenizer = RobertaTokenizerFast.from_pretrained('roberta-base')"
      ],
      "execution_count": 46,
      "outputs": []
    },
    {
      "cell_type": "code",
      "metadata": {
        "id": "qPnTpMt8tJLp"
      },
      "source": [
        "# Initialize the send_id\n",
        "text = [\"this is a Roberta model tutorial\", \"we will fine-tune a Roberta model\"]\n",
        "sent_id = tokenizer.batch_encode_plus(text, padding=True, return_token_type_ids=False)"
      ],
      "execution_count": 47,
      "outputs": []
    },
    {
      "cell_type": "code",
      "metadata": {
        "colab": {
          "base_uri": "https://localhost:8080/"
        },
        "id": "MmGxHveVtJ4f",
        "outputId": "61dadce1-ccce-462d-da35-d55b7be13204"
      },
      "source": [
        "print(sent_id)"
      ],
      "execution_count": 48,
      "outputs": [
        {
          "output_type": "stream",
          "text": [
            "{'input_ids': [[0, 9226, 16, 10, 1738, 102, 1421, 35950, 2, 1, 1, 1], [0, 1694, 40, 2051, 12, 90, 4438, 10, 1738, 102, 1421, 2]], 'attention_mask': [[1, 1, 1, 1, 1, 1, 1, 1, 1, 0, 0, 0], [1, 1, 1, 1, 1, 1, 1, 1, 1, 1, 1, 1]]}\n"
          ],
          "name": "stdout"
        }
      ]
    },
    {
      "cell_type": "code",
      "metadata": {
        "colab": {
          "base_uri": "https://localhost:8080/",
          "height": 282
        },
        "id": "TGYSbQzUtLwS",
        "outputId": "2345db58-0398-4ae0-b9d5-c2b4ad0c203f"
      },
      "source": [
        "# get length of all the messages in the train set\n",
        "seq_len = [len(i.split()) for i in train_text]\n",
        "\n",
        "pd.Series(seq_len).hist(bins = 30)"
      ],
      "execution_count": 49,
      "outputs": [
        {
          "output_type": "execute_result",
          "data": {
            "text/plain": [
              "<matplotlib.axes._subplots.AxesSubplot at 0x7f4ca21bfd68>"
            ]
          },
          "metadata": {
            "tags": []
          },
          "execution_count": 49
        },
        {
          "output_type": "display_data",
          "data": {
            "image/png": "[encoded data removed]",
            "text/plain": [
              "<Figure size 432x288 with 1 Axes>"
            ]
          },
          "metadata": {
            "tags": [],
            "needs_background": "light"
          }
        }
      ]
    },
    {
      "cell_type": "code",
      "metadata": {
        "id": "OMzKcnYxtOFP"
      },
      "source": [
        "#Initialize the max sequence length\n",
        "max_seq_len = 200"
      ],
      "execution_count": 50,
      "outputs": []
    },
    {
      "cell_type": "code",
      "metadata": {
        "colab": {
          "base_uri": "https://localhost:8080/"
        },
        "id": "g6mRLN3vtQXX",
        "outputId": "0dd38448-be20-44cd-bc71-731d50db5e83"
      },
      "source": [
        "# tokenize and encode sequences in the training set\n",
        "tokens_train = tokenizer.batch_encode_plus(\n",
        "    train_text.tolist(),\n",
        "    max_length = max_seq_len,\n",
        "    pad_to_max_length=True,\n",
        "    truncation=True,\n",
        "    return_token_type_ids=False\n",
        ")\n",
        "\n",
        "# tokenize and encode sequences in the validation set\n",
        "tokens_val = tokenizer.batch_encode_plus(\n",
        "    val_text.tolist(),\n",
        "    max_length = max_seq_len,\n",
        "    pad_to_max_length=True,\n",
        "    truncation=True,\n",
        "    return_token_type_ids=False\n",
        ")\n",
        "\n",
        "# tokenize and encode sequences in the test set\n",
        "tokens_test = tokenizer.batch_encode_plus(\n",
        "    test_text.tolist(),\n",
        "    max_length = max_seq_len,\n",
        "    pad_to_max_length=True,\n",
        "    truncation=True,\n",
        "    return_token_type_ids=False\n",
        ")"
      ],
      "execution_count": 51,
      "outputs": [
        {
          "output_type": "stream",
          "text": [
            "/usr/local/lib/python3.6/dist-packages/transformers/tokenization_utils_base.py:2022: FutureWarning: The `pad_to_max_length` argument is deprecated and will be removed in a future version, use `padding=True` or `padding='longest'` to pad to the longest sequence in the batch, or use `padding='max_length'` to pad to a max length. In this case, you can give a specific length with `max_length` (e.g. `max_length=45`) or leave max_length to None to pad to the maximal input size of the model (e.g. 512 for Bert).\n",
            "  FutureWarning,\n"
          ],
          "name": "stderr"
        }
      ]
    },
    {
      "cell_type": "code",
      "metadata": {
        "id": "kD_IfCzotVxj"
      },
      "source": [
        "# for train set\n",
        "train_seq = torch.tensor(tokens_train['input_ids'])\n",
        "train_mask = torch.tensor(tokens_train['attention_mask'])\n",
        "train_y = torch.tensor(train_labels.tolist())\n",
        "\n",
        "# for validation set\n",
        "val_seq = torch.tensor(tokens_val['input_ids'])\n",
        "val_mask = torch.tensor(tokens_val['attention_mask'])\n",
        "val_y = torch.tensor(val_labels.tolist())\n",
        "\n",
        "# for test set\n",
        "test_seq = torch.tensor(tokens_test['input_ids'])\n",
        "test_mask = torch.tensor(tokens_test['attention_mask'])"
      ],
      "execution_count": 52,
      "outputs": []
    },
    {
      "cell_type": "code",
      "metadata": {
        "id": "OaDhHt7NtZRZ"
      },
      "source": [
        "from torch.utils.data import TensorDataset, DataLoader, RandomSampler, SequentialSampler\n",
        " \n",
        "# define a batch size\n",
        "batch_size = 31\n",
        "\n",
        "# wrap tensors\n",
        "train_data = TensorDataset(train_seq, train_mask, train_y)\n",
        "\n",
        "# sampler for sampling the data during training\n",
        "train_sampler = RandomSampler(train_data)\n",
        "\n",
        "# dataLoader for train set\n",
        "train_dataloader = DataLoader(train_data, sampler=train_sampler, batch_size=batch_size)\n",
        "\n",
        "# wrap tensors\n",
        "val_data = TensorDataset(val_seq, val_mask, val_y)\n",
        "\n",
        "# sampler for sampling the data during training\n",
        "val_sampler = SequentialSampler(val_data)\n",
        "\n",
        "# dataLoader for validation set\n",
        "val_dataloader = DataLoader(val_data, sampler = val_sampler, batch_size=batch_size)"
      ],
      "execution_count": 53,
      "outputs": []
    },
    {
      "cell_type": "code",
      "metadata": {
        "id": "oc380qoYtfE5"
      },
      "source": [
        "# freeze all the parameters\n",
        "for param in roberta.parameters():\n",
        "    param.requires_grad = False"
      ],
      "execution_count": 54,
      "outputs": []
    },
    {
      "cell_type": "code",
      "metadata": {
        "id": "Y0nqk53itiDN"
      },
      "source": [
        "class RoBERTa_Arch(nn.Module):\n",
        "\n",
        "    def __init__(self, roberta):\n",
        "      \n",
        "      super(RoBERTa_Arch, self).__init__()\n",
        "\n",
        "      self.roberta = roberta \n",
        "      \n",
        "      # dropout layer\n",
        "      self.dropout = nn.Dropout(0.1)\n",
        "      \n",
        "      # relu activation function\n",
        "      self.relu =  nn.ReLU()\n",
        "\n",
        "      # dense layer 1\n",
        "      self.fc1 = nn.Linear(768,512)\n",
        "      \n",
        "      # dense layer 2 (Output layer)\n",
        "      self.fc2 = nn.Linear(512,2)\n",
        "\n",
        "      #softmax activation function\n",
        "      self.softmax = nn.LogSoftmax(dim=1)\n",
        "\n",
        "    #define the forward pass\n",
        "    def forward(self, sent_id, mask):\n",
        "\n",
        "      #pass the inputs to the model  \n",
        "      _, cls_hs = self.roberta(sent_id, attention_mask=mask)\n",
        "      \n",
        "      x = self.fc1(cls_hs)\n",
        "\n",
        "      x = self.relu(x)\n",
        "\n",
        "      x = self.dropout(x)\n",
        "\n",
        "      # output layer\n",
        "      x = self.fc2(x)\n",
        "      \n",
        "      # apply softmax activation\n",
        "      x = self.softmax(x)\n",
        "\n",
        "      return x"
      ],
      "execution_count": 55,
      "outputs": []
    },
    {
      "cell_type": "code",
      "metadata": {
        "id": "pyVFwzk5tjXo"
      },
      "source": [
        "# pass the pre-trained RoBERTa to our define architecture\n",
        "model = RoBERTa_Arch(roberta)\n",
        "\n",
        "# push the model to CPU\n",
        "model = model.to(device)"
      ],
      "execution_count": 56,
      "outputs": []
    },
    {
      "cell_type": "code",
      "metadata": {
        "id": "IGHNgzsDtqfP"
      },
      "source": [
        "# optimizer from hugging face transformers\n",
        "from transformers import AdamW\n",
        "\n",
        "# define the optimizer\n",
        "optimizer = AdamW(model.parameters(), lr = 1e-3)"
      ],
      "execution_count": 57,
      "outputs": []
    },
    {
      "cell_type": "code",
      "metadata": {
        "colab": {
          "base_uri": "https://localhost:8080/"
        },
        "id": "5MHWVvVDttbi",
        "outputId": "b7e3de88-fe31-487b-b875-73228215d179"
      },
      "source": [
        "from sklearn.utils.class_weight import compute_class_weight\n",
        "\n",
        "# compute the class weights\n",
        "class_wts = compute_class_weight('balanced', np.unique(train_labels), train_labels)\n",
        "\n",
        "print(class_wts)"
      ],
      "execution_count": 58,
      "outputs": [
        {
          "output_type": "stream",
          "text": [
            "[1. 1.]\n"
          ],
          "name": "stdout"
        }
      ]
    },
    {
      "cell_type": "code",
      "metadata": {
        "id": "ytxaBXCDtwk_"
      },
      "source": [
        "# convert class weights to tensor\n",
        "weights= torch.tensor(class_wts,dtype=torch.float)\n",
        "weights = weights.to(device)\n",
        "\n",
        "# loss function\n",
        "cross_entropy  = nn.NLLLoss(weight=weights) \n",
        "\n",
        "# number of training epochs\n",
        "epochs = 10"
      ],
      "execution_count": 59,
      "outputs": []
    },
    {
      "cell_type": "code",
      "metadata": {
        "id": "QlrAx2VLt0F5"
      },
      "source": [
        "# function to train the model\n",
        "def train():\n",
        "  \n",
        "  model.train()\n",
        "\n",
        "  total_loss, total_accuracy = 0, 0\n",
        "  \n",
        "  # empty list to save model predictions\n",
        "  total_preds=[]\n",
        "  \n",
        "  # iterate over batches\n",
        "  for step,batch in enumerate(train_dataloader):\n",
        "    \n",
        "    # progress update after every 50 batches.\n",
        "    if step % 50 == 0 and not step == 0:\n",
        "      print('  Batch {:>5,}  of  {:>5,}.'.format(step, len(train_dataloader)))\n",
        "\n",
        "    # push the batch to gpu\n",
        "    batch = [r.to(device) for r in batch]\n",
        " \n",
        "    sent_id, mask, labels = batch\n",
        "\n",
        "    # clear previously calculated gradients \n",
        "    model.zero_grad()        \n",
        "\n",
        "    # get model predictions for the current batch\n",
        "    preds = model(sent_id, mask)\n",
        "\n",
        "    # compute the loss between actual and predicted values\n",
        "    loss = cross_entropy(preds, labels)\n",
        "\n",
        "    # add on to the total loss\n",
        "    total_loss = total_loss + loss.item()\n",
        "\n",
        "    # backward pass to calculate the gradients\n",
        "    loss.backward()\n",
        "\n",
        "    # clip the the gradients to 1.0. It helps in preventing the exploding gradient problem\n",
        "    torch.nn.utils.clip_grad_norm_(model.parameters(), 1.0)\n",
        "\n",
        "    # update parameters\n",
        "    optimizer.step()\n",
        "\n",
        "    # model predictions are stored on GPU. So, push it to CPU\n",
        "    preds=preds.detach().cpu().numpy()\n",
        "\n",
        "    # append the model predictions\n",
        "    total_preds.append(preds)\n",
        "\n",
        "  # compute the training loss of the epoch\n",
        "  avg_loss = total_loss / len(train_dataloader)\n",
        "  \n",
        "  # predictions are in the form of (no. of batches, size of batch, no. of classes).\n",
        "  # reshape the predictions in form of (number of samples, no. of classes)\n",
        "  total_preds  = np.concatenate(total_preds, axis=0)\n",
        "\n",
        "  #returns the loss and predictions\n",
        "  return avg_loss, total_preds"
      ],
      "execution_count": 60,
      "outputs": []
    },
    {
      "cell_type": "code",
      "metadata": {
        "id": "RmW_LsLct4lQ"
      },
      "source": [
        "# function for evaluating the model\n",
        "def evaluate():\n",
        "  \n",
        "  print(\"\\nEvaluating...\")\n",
        "  \n",
        "  # deactivate dropout layers\n",
        "  model.eval()\n",
        "\n",
        "  total_loss, total_accuracy = 0, 0\n",
        "  \n",
        "  # empty list to save the model predictions\n",
        "  total_preds = []\n",
        "\n",
        "  # iterate over batches\n",
        "  for step,batch in enumerate(val_dataloader):\n",
        "    \n",
        "    # Progress update every 50 batches.\n",
        "    if step % 50 == 0 and not step == 0:\n",
        "            \n",
        "      # Report progress.\n",
        "      print('  Batch {:>5,}  of  {:>5,}.'.format(step, len(val_dataloader)))\n",
        "\n",
        "    # push the batch to gpu\n",
        "    batch = [t.to(device) for t in batch]\n",
        "\n",
        "    sent_id, mask, labels = batch\n",
        "\n",
        "    # deactivate autograd\n",
        "    with torch.no_grad():\n",
        "      \n",
        "      # model predictions\n",
        "      preds = model(sent_id, mask)\n",
        "\n",
        "      # compute the validation loss between actual and predicted values\n",
        "      loss = cross_entropy(preds,labels)\n",
        "\n",
        "      total_loss = total_loss + loss.item()\n",
        "\n",
        "      preds = preds.detach().cpu().numpy()\n",
        "\n",
        "      total_preds.append(preds)\n",
        "\n",
        "  # compute the validation loss of the epoch\n",
        "  avg_loss = total_loss / len(val_dataloader) \n",
        "\n",
        "  # reshape the predictions in form of (number of samples, no. of classes)\n",
        "  total_preds  = np.concatenate(total_preds, axis=0)\n",
        "\n",
        "  return avg_loss, total_preds"
      ],
      "execution_count": 61,
      "outputs": []
    },
    {
      "cell_type": "code",
      "metadata": {
        "colab": {
          "base_uri": "https://localhost:8080/"
        },
        "id": "DqLI_oGJt58w",
        "outputId": "7e1d75d4-f676-456b-915f-848395603760"
      },
      "source": [
        "# set initial loss to infinite\n",
        "best_valid_loss = float('inf')\n",
        "\n",
        "# empty lists to store training and validation loss of each epoch\n",
        "train_losses=[]\n",
        "valid_losses=[]\n",
        "\n",
        "#for each epoch\n",
        "for epoch in range(epochs):\n",
        "     \n",
        "    print('\\n Epoch {:} / {:}'.format(epoch + 1, epochs))\n",
        "    \n",
        "    #train model\n",
        "    train_loss, _ = train()\n",
        "    \n",
        "    #evaluate model\n",
        "    valid_loss, _ = evaluate()                          \n",
        "    \n",
        "    #save the best model\n",
        "    if valid_loss < best_valid_loss:\n",
        "        best_valid_loss = valid_loss                                                    \n",
        "        torch.save(model.state_dict(), 'saved_weights.pt')  \n",
        "    \n",
        "    # append training and validation loss\n",
        "    train_losses.append(train_loss)\n",
        "    valid_losses.append(valid_loss)\n",
        "    \n",
        "    print(f'\\nTraining Loss: {train_loss:.3f}')\n",
        "    print(f'Validation Loss: {valid_loss:.3f}')"
      ],
      "execution_count": 62,
      "outputs": [
        {
          "output_type": "stream",
          "text": [
            "\n",
            " Epoch 1 / 10\n",
            "  Batch    50  of    113.\n",
            "  Batch   100  of    113.\n",
            "\n",
            "Evaluating...\n",
            "\n",
            "Training Loss: 0.697\n",
            "Validation Loss: 0.686\n",
            "\n",
            " Epoch 2 / 10\n",
            "  Batch    50  of    113.\n",
            "  Batch   100  of    113.\n",
            "\n",
            "Evaluating...\n",
            "\n",
            "Training Loss: 0.687\n",
            "Validation Loss: 0.674\n",
            "\n",
            " Epoch 3 / 10\n",
            "  Batch    50  of    113.\n",
            "  Batch   100  of    113.\n",
            "\n",
            "Evaluating...\n",
            "\n",
            "Training Loss: 0.669\n",
            "Validation Loss: 0.651\n",
            "\n",
            " Epoch 4 / 10\n",
            "  Batch    50  of    113.\n",
            "  Batch   100  of    113.\n",
            "\n",
            "Evaluating...\n",
            "\n",
            "Training Loss: 0.640\n",
            "Validation Loss: 0.610\n",
            "\n",
            " Epoch 5 / 10\n",
            "  Batch    50  of    113.\n",
            "  Batch   100  of    113.\n",
            "\n",
            "Evaluating...\n",
            "\n",
            "Training Loss: 0.599\n",
            "Validation Loss: 0.574\n",
            "\n",
            " Epoch 6 / 10\n",
            "  Batch    50  of    113.\n",
            "  Batch   100  of    113.\n",
            "\n",
            "Evaluating...\n",
            "\n",
            "Training Loss: 0.580\n",
            "Validation Loss: 0.625\n",
            "\n",
            " Epoch 7 / 10\n",
            "  Batch    50  of    113.\n",
            "  Batch   100  of    113.\n",
            "\n",
            "Evaluating...\n",
            "\n",
            "Training Loss: 0.569\n",
            "Validation Loss: 0.565\n",
            "\n",
            " Epoch 8 / 10\n",
            "  Batch    50  of    113.\n",
            "  Batch   100  of    113.\n",
            "\n",
            "Evaluating...\n",
            "\n",
            "Training Loss: 0.574\n",
            "Validation Loss: 0.583\n",
            "\n",
            " Epoch 9 / 10\n",
            "  Batch    50  of    113.\n",
            "  Batch   100  of    113.\n",
            "\n",
            "Evaluating...\n",
            "\n",
            "Training Loss: 0.564\n",
            "Validation Loss: 0.555\n",
            "\n",
            " Epoch 10 / 10\n",
            "  Batch    50  of    113.\n",
            "  Batch   100  of    113.\n",
            "\n",
            "Evaluating...\n",
            "\n",
            "Training Loss: 0.562\n",
            "Validation Loss: 0.567\n"
          ],
          "name": "stdout"
        }
      ]
    },
    {
      "cell_type": "code",
      "metadata": {
        "id": "rIbxQqhIvRoF",
        "colab": {
          "base_uri": "https://localhost:8080/"
        },
        "outputId": "5cabc308-77ad-4fd8-961a-2b94f3cb55f9"
      },
      "source": [
        "#load weights of best model\n",
        "path = 'saved_weights.pt'\n",
        "model.load_state_dict(torch.load(path))"
      ],
      "execution_count": 63,
      "outputs": [
        {
          "output_type": "execute_result",
          "data": {
            "text/plain": [
              "<All keys matched successfully>"
            ]
          },
          "metadata": {
            "tags": []
          },
          "execution_count": 63
        }
      ]
    },
    {
      "cell_type": "code",
      "metadata": {
        "id": "ePraoirtvVBT"
      },
      "source": [
        "# get predictions for test data\n",
        "with torch.no_grad():\n",
        "  preds = model(test_seq.to(device), test_mask.to(device))\n",
        "  preds = preds.detach().cpu().numpy()\n",
        "  preds = np.argmax(preds, axis = 1)"
      ],
      "execution_count": 64,
      "outputs": []
    },
    {
      "cell_type": "code",
      "metadata": {
        "id": "Pmd2Zvc4FX3T"
      },
      "source": [
        "print(preds)"
      ],
      "execution_count": null,
      "outputs": []
    },
    {
      "cell_type": "code",
      "metadata": {
        "id": "qbLFvm3tFBfX"
      },
      "source": [
        "import csv\n",
        "import pandas as pd\n",
        "\n",
        "predresult =[]\n",
        "\n",
        "for item in preds:\n",
        "  if item == 1:\n",
        "    item = 'NOT_SARCASM'\n",
        "  else:\n",
        "    item = 'SARCASM'\n",
        "  predresult.append(item)\n",
        "\n",
        "with open ('testdata.csv') as f:\n",
        "  reader = csv.reader(f)\n",
        "  column = [row[2] for row in reader]\n",
        "\n",
        "#create test answer csv document\n",
        "with open ('testans.csv', 'w+', newline='', encoding='utf-8') as f:\n",
        "    csv_writer = csv.writer(f)\n",
        "\n",
        "    for i in range(len(predresult)):\n",
        "      data_row = [column[i+1],predresult[i]]\n",
        "      csv_writer.writerow(data_row)\n",
        "\n",
        "#convert csv to txt\n",
        "output = open ('answer.txt','w')\n",
        "with open('testans.csv', encoding='utf-8') as f:\n",
        "    for row in f:\n",
        "      output.write(row)"
      ],
      "execution_count": 66,
      "outputs": []
    }
  ]
}